{
  "nbformat": 4,
  "nbformat_minor": 0,
  "metadata": {
    "colab": {
      "provenance": []
    },
    "kernelspec": {
      "name": "python3",
      "display_name": "Python 3"
    },
    "language_info": {
      "name": "python"
    }
  },
  "cells": [
    {
      "cell_type": "markdown",
      "source": [
        "#Looping"
      ],
      "metadata": {
        "id": "e_5SdliWjzDU"
      }
    },
    {
      "cell_type": "markdown",
      "source": [
        "1.Write a code to get 2 integers A and N. Print the integer A, N times in separate line.\n",
        "\n",
        "Input Description:\n",
        "First line contains an integer A. Second line contains an Integer N.\n",
        "\n",
        "Output Description:\n",
        "Print the integer A, N times in a separate line.\n",
        "\n",
        "Sample Input :\n",
        "2 3\n",
        "Sample Output :\n",
        "2\n",
        "2\n",
        "2"
      ],
      "metadata": {
        "id": "Wy6HFjeyj4NT"
      }
    },
    {
      "cell_type": "code",
      "source": [
        "A, N = map(int,input().split())\n",
        "for i in range(N):\n",
        "    print(A)"
      ],
      "metadata": {
        "id": "XPpbbcAjj_DC"
      },
      "execution_count": null,
      "outputs": []
    },
    {
      "cell_type": "markdown",
      "source": [
        "2.Write a code to get an integer N and print values from 1 till N in a separate line.\n",
        "\n",
        "Input Description:\n",
        "A single line contains an integer N.\n",
        "\n",
        "Output Description:\n",
        "Print the values from 1 to N in a separate line.\n",
        "\n",
        "Sample Input :\n",
        "5\n",
        "Sample Output :\n",
        "1\n",
        "2\n",
        "3\n",
        "4\n",
        "5"
      ],
      "metadata": {
        "id": "oi4yED-rkBwD"
      }
    },
    {
      "cell_type": "code",
      "source": [
        "num = int(input())\n",
        "for i in range(1, num+1):\n",
        "    print(i)"
      ],
      "metadata": {
        "id": "61XaQGlOkKvQ"
      },
      "execution_count": null,
      "outputs": []
    },
    {
      "cell_type": "markdown",
      "source": [
        "3.Write a code to get a integer n as input and calculate the smallest perfect power of 2 greater than n.\n",
        "\n",
        "Input Description:\n",
        "A single line containing an integer,n.\n",
        "\n",
        "Output Description:\n",
        "Print the smallest perfect power of 2 greater than n.\n",
        "\n",
        "Sample Input :\n",
        "48\n",
        "Sample Output :\n",
        "64"
      ],
      "metadata": {
        "id": "aYZnz_EmkNOM"
      }
    },
    {
      "cell_type": "code",
      "source": [
        "s=int(input())\n",
        "n=2\n",
        "d=[]\n",
        "for i in range(20):\n",
        "    n=n*2\n",
        "    d.append(n)\n",
        "for i in d:\n",
        "    if i>s:\n",
        "        print(i)\n",
        "        break"
      ],
      "metadata": {
        "id": "3Lp7j3aQkS-p"
      },
      "execution_count": null,
      "outputs": []
    },
    {
      "cell_type": "markdown",
      "source": [
        "4.Write a code get an integer number as input and print the odd and even digits of the number separately.\n",
        "\n",
        "Input Description:\n",
        "A single line containing an integer.\n",
        "\n",
        "Output Description:\n",
        "Print the even and odd integers of the integer in a separate line.\n",
        "\n",
        "Sample Input :\n",
        "1234\n",
        "Sample Output :\n",
        "2 4\n",
        "1 3"
      ],
      "metadata": {
        "id": "a9py61uFkV5F"
      }
    },
    {
      "cell_type": "code",
      "source": [
        "\n",
        "n = input()\n",
        "even_lst = []\n",
        "odd_lst = []\n",
        "for i in n:\n",
        "    if int(i) % 2 == 0:\n",
        "        even_lst.append(i)\n",
        "    else:\n",
        "        odd_lst.append(i)\n",
        "even_lst.sort()\n",
        "odd_lst.sort()\n",
        "print(*even_lst)\n",
        "print(*odd_lst)"
      ],
      "metadata": {
        "id": "dCLMfHm1kacQ"
      },
      "execution_count": null,
      "outputs": []
    },
    {
      "cell_type": "markdown",
      "source": [
        "5.Write a code to get 2 integers as input and find the HCF of the 2 integer without using recursion or Euclidean algorithm.\n",
        "\n",
        "Input Description:\n",
        "A single line containing 2 integers separated by space.\n",
        "\n",
        "Output Description:\n",
        "Print the HCF of the integers.\n",
        "\n",
        "Sample Input :\n",
        "2 3\n",
        "Sample Output :\n",
        "1"
      ],
      "metadata": {
        "id": "X2xn10dIkfEq"
      }
    },
    {
      "cell_type": "code",
      "source": [
        "A,B = map(int,input().split())\n",
        "hcf = 1\n",
        "if A > B:\n",
        "    c = B \n",
        "else:\n",
        "    c = A \n",
        "for i in range(1, c+1):\n",
        "    if (A % i == 0) and (B % i == 0):\n",
        "        hcf = i\n",
        "print(hcf)"
      ],
      "metadata": {
        "id": "1e2uptGKklQV"
      },
      "execution_count": null,
      "outputs": []
    },
    {
      "cell_type": "markdown",
      "source": [
        "6.Write a program to get a string as input and reverse the string without using temporary variable.\n",
        "\n",
        "Input Description:\n",
        "A single line containing a string.\n",
        "\n",
        "Output Description:\n",
        "Print the reversed string.\n",
        "\n",
        "Sample Input :\n",
        "GUVI\n",
        "Sample Output :\n",
        "IVUG"
      ],
      "metadata": {
        "id": "PTVi4JzCknX-"
      }
    },
    {
      "cell_type": "code",
      "source": [
        "a = input()\n",
        "print(a[::-1])"
      ],
      "metadata": {
        "id": "i_1KY75zkrsN"
      },
      "execution_count": null,
      "outputs": []
    },
    {
      "cell_type": "markdown",
      "source": [
        "7.Write a program to get a list of integers as input and find the LCM of the values without using GCD\n",
        "\n",
        "Input Description:\n",
        "First line contains an integer N, number of values. Second line contains N space separated values.\n",
        "\n",
        "Output Description:\n",
        "Print the LCM of the values.\n",
        "\n",
        "Sample Input :\n",
        "1 2 3 4 5\n",
        "Sample Output :\n",
        "60"
      ],
      "metadata": {
        "id": "RuTXYfKpkt2X"
      }
    },
    {
      "cell_type": "code",
      "source": [
        "def LCM(arr, n):\n",
        "    max_num = 0;\n",
        "    for i in range(n):\n",
        "        if (max_num < arr[i]):\n",
        "            max_num = arr[i];\n",
        "    res = 1;\n",
        "    \n",
        "    x = 2;\n",
        "    while (x <= max_num):\n",
        "         \n",
        "        indexes = [];\n",
        "        for j in range(n):\n",
        "            if (arr[j] % x == 0):\n",
        "                indexes.append(j);\n",
        "\n",
        "        if (len(indexes) >= 2):\n",
        "  \n",
        "            for j in range(len(indexes)):\n",
        "                arr[indexes[j]] = int(arr[indexes[j]] / x);\n",
        " \n",
        "            res = res * x;\n",
        "        else:\n",
        "            x += 1;\n",
        "\n",
        "    for i in range(n):\n",
        "        res = res * arr[i];\n",
        " \n",
        "    return res;\n",
        "    \n",
        "a=int(input())\n",
        "arr =list(map(int,input().split()))\n",
        "n = len(arr)\n",
        "print(LCM(arr, n))"
      ],
      "metadata": {
        "id": "Cv1nyN8Zkzwq"
      },
      "execution_count": null,
      "outputs": []
    },
    {
      "cell_type": "markdown",
      "source": [
        "8.Write a code to get an integer N and print the even values from 1 till N in a separate line.\n",
        "\n",
        "Input Description:\n",
        "A single line contains an integer N.\n",
        "\n",
        "Output Description:\n",
        "Print the even values from 1 to N in a separate line.\n",
        "\n",
        "Sample Input :\n",
        "6\n",
        "Sample Output :\n",
        "2\n",
        "4\n",
        "6"
      ],
      "metadata": {
        "id": "NhIncHKhk4kS"
      }
    },
    {
      "cell_type": "code",
      "source": [
        "num = int(input())\n",
        "for i in range(1, num+1):\n",
        "    if i % 2 == 0:\n",
        "        print(i)"
      ],
      "metadata": {
        "id": "Jx-9e-INk-BZ"
      },
      "execution_count": null,
      "outputs": []
    },
    {
      "cell_type": "markdown",
      "source": [
        "9.Write a code to get the input and print it 5 times.\n",
        "\n",
        "Input Description:\n",
        "A single line contains an integer N.\n",
        "\n",
        "Output Description:\n",
        "Output contains 5 lines with each line having the value N.\n",
        "\n",
        "Sample Input :\n",
        "4\n",
        "Sample Output :\n",
        "4\n",
        "4\n",
        "4\n",
        "4\n",
        "4"
      ],
      "metadata": {
        "id": "MXySGq3NlDB9"
      }
    },
    {
      "cell_type": "code",
      "source": [
        "a = int(input())\n",
        "for i in range(5):\n",
        "    print(a)"
      ],
      "metadata": {
        "id": "53ExuKjKlchg"
      },
      "execution_count": null,
      "outputs": []
    },
    {
      "cell_type": "markdown",
      "source": [
        "10.Write a code to get 2 integers as input and add the integers without any carry.\n",
        "\n",
        "Input Description:\n",
        "A single line containing 2 integers.\n",
        "\n",
        "Output Description:\n",
        "Print sum of the 2 integers without carry\n",
        "\n",
        "Sample Input :\n",
        "44 66\n",
        "Sample Output :\n",
        "0"
      ],
      "metadata": {
        "id": "sFmKx3rzleZh"
      }
    },
    {
      "cell_type": "code",
      "source": [
        "a, b = list(map(int, input().split()))\n",
        "\n",
        "c = a + b\n",
        "\n",
        "d = str(c)\n",
        "A = str(a)\n",
        "B = str(b)\n",
        "\n",
        "if c < 110 and ( len(d) > len(A) or len(d) > len(B)) :\n",
        "    print(d[-1])\n",
        "    \n",
        "elif c > 110 :\n",
        "    print((c - 100)/2)\n",
        "    \n",
        "else:\n",
        "    print(c)"
      ],
      "metadata": {
        "id": "zZuEAbO9l744"
      },
      "execution_count": null,
      "outputs": []
    },
    {
      "cell_type": "markdown",
      "source": [
        "11.Write a code get an integer number as input and print the sum of the digits.\n",
        "\n",
        "Input Description:\n",
        "A single line containing an integer.\n",
        "\n",
        "Output Description:\n",
        "Print the sum of the digits of the integer.\n",
        "\n",
        "Sample Input :\n",
        "124\n",
        "Sample Output :\n",
        "7"
      ],
      "metadata": {
        "id": "UIoBqK0al-up"
      }
    },
    {
      "cell_type": "code",
      "source": [
        "n=int(input())\n",
        "tot=0\n",
        "while(n>0):\n",
        "    dig=n%10\n",
        "    tot=tot+dig\n",
        "    n=n//10\n",
        "print(tot)"
      ],
      "metadata": {
        "id": "eQdjSzDEIUNk"
      },
      "execution_count": null,
      "outputs": []
    },
    {
      "cell_type": "markdown",
      "source": [
        "12.Write a code to get an integer N and print the digits of the integer.\n",
        "\n",
        "Input Description:\n",
        "A single line contains an integer N.\n",
        "\n",
        "Output Description:\n",
        "Print the digits of the integer in a single line separated by space,\n",
        "\n",
        "Sample Input :\n",
        "348\n",
        "Sample Output :\n",
        "3 4 8"
      ],
      "metadata": {
        "id": "nsE7SrNgIWSo"
      }
    },
    {
      "cell_type": "code",
      "source": [
        "a = input()\n",
        "arr = []\n",
        "for i in a:\n",
        "    arr.append(i)\n",
        "print(*arr)"
      ],
      "metadata": {
        "id": "Ew6J1Q9CIeMH"
      },
      "execution_count": null,
      "outputs": []
    },
    {
      "cell_type": "markdown",
      "source": [
        "13.Write a code to get an integer N and print the sum of  values from 1 to N.\n",
        "\n",
        "Input Description:\n",
        "A single line contains an integer N.\n",
        "\n",
        "Output Description:\n",
        "Print the sum of values from 1 to N.\n",
        "\n",
        "Sample Input :\n",
        "10\n",
        "Sample Output :\n",
        "55"
      ],
      "metadata": {
        "id": "_5mQKdUUIf_F"
      }
    },
    {
      "cell_type": "code",
      "source": [
        "a = int(input())\n",
        "k = 0\n",
        "for i in range(1,a+1):\n",
        "    k += i \n",
        "print(k)"
      ],
      "metadata": {
        "id": "08qFdcmtIwxb"
      },
      "execution_count": null,
      "outputs": []
    },
    {
      "cell_type": "markdown",
      "source": [
        "14.Write a code to get an integer N and print the values from N to 1.\n",
        "\n",
        "Input Description:\n",
        "A single line contains an integer N.\n",
        "\n",
        "Output Description:\n",
        "Print the values from N to 1 in a separate line.\n",
        "\n",
        "Sample Input :\n",
        "10\n",
        "Sample Output :\n",
        "10\n",
        "9\n",
        "8\n",
        "7\n",
        "6\n",
        "5\n",
        "4\n",
        "3\n",
        "2\n",
        "1\n"
      ],
      "metadata": {
        "id": "-lDulLEcIy1-"
      }
    },
    {
      "cell_type": "code",
      "source": [
        "num = int(input())\n",
        "for i in range(num,0,-1):\n",
        "    print(i)"
      ],
      "metadata": {
        "id": "wS1KPt8aI5mv"
      },
      "execution_count": null,
      "outputs": []
    }
  ]
}